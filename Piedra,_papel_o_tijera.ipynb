{
  "nbformat": 4,
  "nbformat_minor": 0,
  "metadata": {
    "colab": {
      "name": "Piedra, papel o tijera.ipynb",
      "provenance": [],
      "authorship_tag": "ABX9TyOZIpfE1EBR5Iv4e6StY389",
      "include_colab_link": true
    },
    "kernelspec": {
      "name": "python3",
      "display_name": "Python 3"
    },
    "language_info": {
      "name": "python"
    }
  },
  "cells": [
    {
      "cell_type": "markdown",
      "metadata": {
        "id": "view-in-github",
        "colab_type": "text"
      },
      "source": [
        "<a href=\"https://colab.research.google.com/github/lidjud/nb4_estructuras_control/blob/main/Piedra%2C_papel_o_tijera.ipynb\" target=\"_parent\"><img src=\"https://colab.research.google.com/assets/colab-badge.svg\" alt=\"Open In Colab\"/></a>"
      ]
    },
    {
      "cell_type": "code",
      "execution_count": null,
      "metadata": {
        "id": "RIMC154C9RX8"
      },
      "outputs": [],
      "source": [
        "import random\n",
        "\n",
        "piedra = '''\n",
        "    _______\n",
        "---'   ____)\n",
        "      (_____)\n",
        "      (_____)\n",
        "      (____)\n",
        "---.__(___)\n",
        "'''\n",
        "\n",
        "papel = '''\n",
        "    _______\n",
        "---'   ____)____\n",
        "          ______)\n",
        "          _______)\n",
        "         _______)\n",
        "---.__________)\n",
        "'''\n",
        "\n",
        "tijera = '''\n",
        "    _______\n",
        "---'   ____)____\n",
        "          ______)\n",
        "       __________)\n",
        "      (____)\n",
        "---.__(___)\n",
        "'''\n",
        "\n",
        "arreglo_imagenes = [piedra, papel, tijera]\n",
        "\n",
        "user_choice = int(input(\"Qué eliges? 0-Piedra, 1-Papel o 2-tijera.\\n\"))\n",
        "print(arreglo_imagenes[user_choice])\n",
        "\n",
        "computer_choice = random.randint(0, 2)\n",
        "print(\"La computadora elige: \")\n",
        "print(arreglo_imagenes[computer_choice])\n",
        "\n",
        "if user_choice >= 3 or user_choice < 0: \n",
        "  print(\"Escribiste un número inválido, you lose!\") \n",
        "elif user_choice == 0 and computer_choice == 2:\n",
        "  print(\"You win!\")\n",
        "elif computer_choice == 0 and user_choice == 2:\n",
        "  print(\"You lose\")\n",
        "elif computer_choice > user_choice:\n",
        "  print(\"You lose\")\n",
        "elif user_choice > computer_choice:\n",
        "  print(\"You win!\")\n",
        "elif computer_choice == user_choice:\n",
        "  print(\"Es un empate\")"
      ]
    }
  ]
}