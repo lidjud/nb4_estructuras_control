{
  "nbformat": 4,
  "nbformat_minor": 0,
  "metadata": {
    "colab": {
      "name": "NB4_Estructuras_control.ipynb",
      "provenance": [],
      "collapsed_sections": [],
      "include_colab_link": true
    },
    "kernelspec": {
      "name": "python3",
      "display_name": "Python 3"
    },
    "language_info": {
      "name": "python"
    }
  },
  "cells": [
    {
      "cell_type": "markdown",
      "metadata": {
        "id": "view-in-github",
        "colab_type": "text"
      },
      "source": [
        "<a href=\"https://colab.research.google.com/github/lidjud/nb4_estructuras_control/blob/main/NB4_Estructuras_control.ipynb\" target=\"_parent\"><img src=\"https://colab.research.google.com/assets/colab-badge.svg\" alt=\"Open In Colab\"/></a>"
      ]
    },
    {
      "cell_type": "markdown",
      "source": [
        "# Estructuras de control"
      ],
      "metadata": {
        "id": "yPn42Cw-RvE5"
      }
    },
    {
      "cell_type": "markdown",
      "source": [
        "Recordemos que un código es una secuencia de instrucciones, que generalmente son ejecutadas una tras otra. Es como seguir una receta de cocina:\n",
        "\n",
        "\n",
        "\n",
        "```\n",
        "poner_agua_hervir()\n",
        "echar_arroz_hervir()\n",
        "cortar_pollo()\n",
        "freir_pollo()\n",
        "mezclar_pollo_arroz()\n",
        "```\n",
        "\n",
        "Sin embargo, en muchas ocasiones no basta con ejecutar las instrucciones una tras otra. Pueder ser que sea necesario ejecutar una instrucción si se cumple una condición.\n",
        "¿Qué pasa si el comensal es vegetariano?\n",
        "\n",
        "```\n",
        "poner_agua_hervir()\n",
        "echar_arroz_hervir()\n",
        "if not vegetariano:\n",
        "  cortar_pollo()\n",
        "  freir_pollo()\n",
        "  mezclar_pollo_arroz()\n",
        "else:\n",
        "  cortar_zanahoria()\n",
        "  freir_zanahoria()\n",
        "  mezclar_zanahoria()\n",
        "```\n"
      ],
      "metadata": {
        "id": "KNqvuHbzSDGZ"
      }
    },
    {
      "cell_type": "markdown",
      "source": [
        "## Condicionales\n",
        "\n",
        "Cuando escribes un programa, a veces es necesario ejecutar alguna secuencia de código únicamente cuando se cumple cierta condición. Para hacer esto, es necesario escribir una sentencia condicional o sentencia ```if```.\n",
        "\n",
        "En python, la primera parte de una sentencia condicional está formada por la palabra reservada ```if``` seguida de una expresión booleana. Una expresión booleana, es un tipo de expresión que solo podrá tomar dos valores, verdadero (```True```) o falso (```False```). En una sentencia if, la secuencia de código se ejecutará solamente cuando la expresión boolean devuelva un valor de True.\n",
        "\n",
        "```\n",
        "# Una condicional básica.\n",
        "if 5==5:\n",
        "  #Codigo se ejecuta porque 5 es igual a 5 (True)\n",
        "  #bloque de codigo aqui\n",
        "```"
      ],
      "metadata": {
        "id": "8mWA62RxBZl0"
      }
    },
    {
      "cell_type": "code",
      "execution_count": null,
      "metadata": {
        "id": "EQX3MW2mwg4h"
      },
      "outputs": [],
      "source": [
        "#Una expresion booleana con valor True\n",
        "print(5 == 5)\n",
        "if 5 == 5:\n",
        "    print(\"El valor es verdadero!\")\n",
        "\n",
        "#Una expresion booleana con valor False\n",
        "print(4 == 5)\n",
        "if 4 == 5:\n",
        "    print(\"El valor es falso!\")\n",
        "    "
      ]
    },
    {
      "cell_type": "markdown",
      "source": [
        "## Identación de bloques\n",
        "En python, ¡la identación es importante!. Cada bloque o secuencia de código es identificado por medio de su identación. Después de escribir una condicional, _ciclo_ o _función_, deberás identar el bloque de código que quieres que esté dentro de ésta.\n",
        "\n",
        "Para identar los bloques de código, puedes utilizar tabulaciones o espacios. Intenta ser constante en el tipo de identación que uses."
      ],
      "metadata": {
        "id": "yyAipYalB1tU"
      }
    },
    {
      "cell_type": "markdown",
      "source": [
        "## Operadores relacionales\n",
        "Los siguientes operadores relacionales pueden ser utilizados para realizar comparaciones entre variables en una sentencia condicional.\n",
        "\n",
        "```\n",
        "x == y #equivalente a: True si el valor de x es igual al de y\n",
        "\n",
        "x != y #diferente a: True si el valor de x es diferente al de y\n",
        "\n",
        "x < y #menor a: True si el valor de x es menor al de y\n",
        "\n",
        "x > y #mayor a: True si el valor de x es mayor al de y\n",
        "\n",
        "x <= y #menor o igual a: True si el valor de x es menor o igual al de y\n",
        "\n",
        "x >= y #mayor o igual a: True si el valor de x es mayor o igual al de y\n",
        "```\n"
      ],
      "metadata": {
        "id": "qENowfWrCB6n"
      }
    },
    {
      "cell_type": "code",
      "source": [
        "#Intenta cambiar los valores de x, y\n",
        "a = 4\n",
        "b = 2\n",
        "if b != 0:\n",
        "  print(a/b)"
      ],
      "metadata": {
        "id": "8zoKyKpFBmWX"
      },
      "execution_count": null,
      "outputs": []
    },
    {
      "cell_type": "code",
      "source": [
        "if b != 0:\n",
        "  c = a/b\n",
        "  d = c+1\n",
        "  print(d)"
      ],
      "metadata": {
        "id": "cT1a2tpoVp7O"
      },
      "execution_count": null,
      "outputs": []
    },
    {
      "cell_type": "code",
      "source": [
        "if b != 0:\n",
        "  c = a/b\n",
        "  print(\"Dentro del if\")\n",
        "print(\"Fuera del if\")"
      ],
      "metadata": {
        "id": "PDjaN669V4Pz"
      },
      "execution_count": null,
      "outputs": []
    },
    {
      "cell_type": "markdown",
      "source": [
        "## Operadores lógicos\n",
        "\n",
        "Puedes combinar múltiples expresiones booleanas haciendo uso de operadores lógicos. Los siguientes tres operadores lógicos están disponibles en Python:\n",
        "\n",
        "\n",
        "* **and**\n",
        "\n",
        "  > Verdadero si ambas expresiones son verdaderas.\n",
        "* **or**\n",
        "\n",
        "  > Verdadero si una de las expresiones es verdadera o ambas lo son.\n",
        "* **not**\n",
        "\n",
        "  > Negación de la expresión, regresa falso si la expresión es verdadera o verdadero si la expresión es falsa."
      ],
      "metadata": {
        "id": "QlnEs0ExCdDR"
      }
    },
    {
      "cell_type": "code",
      "source": [
        "#Prueba cambiando el valor de x\n",
        "x = 5\n",
        "if x > 0 and x < 10:\n",
        "    print(x, \" es un valor entre 0 y 10\")"
      ],
      "metadata": {
        "id": "VIc2aOutCSQP"
      },
      "execution_count": null,
      "outputs": []
    },
    {
      "cell_type": "code",
      "source": [
        "#Prueba cambiando el valor de x\n",
        "x = 6\n",
        "if (x % 2 == 0) or (x % 3 == 0):\n",
        "    print(x, \"es un numero divisible entre tres o dos o ambos\")"
      ],
      "metadata": {
        "id": "NjxAp9-yCxqQ"
      },
      "execution_count": null,
      "outputs": []
    },
    {
      "cell_type": "code",
      "source": [
        "#Prueba cambiando el valor de x\n",
        "x = 5\n",
        "if not(x > 10):\n",
        "    print(x, \" es un número menor o igual a 10\")"
      ],
      "metadata": {
        "id": "WpfWsB89C7yQ"
      },
      "execution_count": null,
      "outputs": []
    },
    {
      "cell_type": "markdown",
      "source": [
        "## Operador in\n",
        "En python, el operador ```in``` es un operador especial que retorna verdadero si el elemento en la parte izquierda del operador se encuentra en la _colección_ en la parte derecha del operador.\n",
        "\n",
        "\n",
        "\n",
        "```\n",
        "x in colection\n",
        "```\n"
      ],
      "metadata": {
        "id": "gNRP3mi9DTPi"
      }
    },
    {
      "cell_type": "code",
      "source": [
        "#Un ejemplo del operador in utilizando cadenas de texto\n",
        "msj = \"Hola mundo!\"\n",
        "sub_s = \"mundo\"\n",
        "\n",
        "if sub_s in msj:\n",
        "    print(sub_s, \"está contenido en \", msj)"
      ],
      "metadata": {
        "id": "BMZkDNNnDFV4"
      },
      "execution_count": null,
      "outputs": []
    },
    {
      "cell_type": "markdown",
      "source": [
        "## Condicionales en cadena y anidadas\n",
        "\n",
        "A veces es necesario evaluar más de una posibilidad mediante condicionales, podrás utilizar ```elif``` (de else if) para para hacerlo.\n",
        "\n",
        "```\n",
        "if cond1:\n",
        "  #secuencia 1\n",
        "elif cond2:\n",
        "  #secuencia 2\n",
        "...\n",
        "elif condn:\n",
        "  #secuencia n\n",
        "else:\n",
        "  #ultima secuencia\n",
        "```"
      ],
      "metadata": {
        "id": "07YI4PUJJMaC"
      }
    },
    {
      "cell_type": "code",
      "source": [
        "#condicionales en cadena\n",
        "#Prueba a cambiar los valores de x, y\n",
        "x = 5\n",
        "y = 10\n",
        "\n",
        "if x < y:\n",
        "    print(x, 'es menor que ', y)\n",
        "elif x > y:\n",
        "    print(x, 'es mayor que ', y)\n",
        "else:\n",
        "    print(x, 'es igual a', y)"
      ],
      "metadata": {
        "id": "FDPdJI2qI7ft"
      },
      "execution_count": null,
      "outputs": []
    },
    {
      "cell_type": "markdown",
      "source": [
        "En otras ocaciones, es necesario utilizar condicionales adicionales dentro de una rama de condición.\n",
        "\n",
        "```\n",
        "if con1:\n",
        "  #secuencia 1\n",
        "else:\n",
        "  if condalt1:\n",
        "    #secuencia alternativa 1\n",
        "  elif condalt2:\n",
        "    #secuencia alternativa 2\n",
        "  else:\n",
        "    #secuencia alternativa 3\n",
        "  \n",
        "```"
      ],
      "metadata": {
        "id": "Lcd028HZJcQn"
      }
    },
    {
      "cell_type": "code",
      "source": [
        "#condicionales anidadas\n",
        "#Prueba a cambiar los valores de x, y\n",
        "x = 5\n",
        "y = 10\n",
        "\n",
        "if x == y:\n",
        "    print(x, 'es igual a', y)\n",
        "else:\n",
        "    if x > y:\n",
        "        print(x, 'es mayor que ', y)\n",
        "    else:\n",
        "        print(x, 'es menor que ', y)"
      ],
      "metadata": {
        "id": "YaehrQqpJWco"
      },
      "execution_count": null,
      "outputs": []
    },
    {
      "cell_type": "markdown",
      "source": [
        "## Listas\n",
        "\n",
        "En python, una lista es una colección de elementos. Para declarar una lista, usarás ```[]``` para encerrar a los elementos que la conformarán. Cada elemento estará separado por una coma. Por ejemplo, para crear una lista con los números del 1 al 5 escribirás:\n",
        "\n",
        "```\n",
        "first_five_numbers = [1, 2, 3, 4, 5]\n",
        "``` \n",
        "\n",
        "Los elemento de una lista pueden ser cualquier tipo de dato primitivo (int, float, string o boolean) u otras listas (una lista anidada). También puedes declarar una lista vacía dejando a la lista sin elementos.\n",
        "\n",
        "```\n",
        "#Una lista de enteros\n",
        "first_five_numbers = [1, 2, 3, 4, 5]\n",
        "\n",
        "#Una lista de strings\n",
        "words = [\"hello\", \"bye\", \"thanks\", \"low\"]\n",
        "\n",
        "#lista anidada, lista de listas\n",
        "l_lists = [[1, 2, 3, 4, 5], [6, 7, 8, 9, 10]]\n",
        "\n",
        "#una lista vacia\n",
        "empty_list = []\n",
        "``` "
      ],
      "metadata": {
        "id": "6wyXkWrHEVaV"
      }
    },
    {
      "cell_type": "markdown",
      "source": [
        "Los elementos en una lista tienen un orden de aparición, lo que permite que puedas acceder a ellos mediante su índice. Los índices de una lista inician en $0$. Para acceder individualmente a los elemento de una lista usarás la notación ```[n]```.\n",
        "\n",
        "```\n",
        "#Una lista de enteros\n",
        "first_five_numbers = [1, 2, 3, 4, 5]\n",
        "\n",
        "#imprimir el primer elemento de la lista\n",
        "print(first_five_numbers[0])\n",
        "```"
      ],
      "metadata": {
        "id": "orXwCGRzEj0o"
      }
    },
    {
      "cell_type": "code",
      "source": [
        "#Prueba a cambiar el valor de n para imprimir otros elementos de la lista\n",
        "n = 0\n",
        "\n",
        "# Una lista de enteros\n",
        "first_five_numbers = [1, 2, 3, 4, 5]\n",
        "\n",
        "# imprimir el n-esimo elemento de la lista\n",
        "print(first_five_numbers[n])"
      ],
      "metadata": {
        "id": "wZvZBifFDaNn"
      },
      "execution_count": null,
      "outputs": []
    },
    {
      "cell_type": "markdown",
      "source": [
        "### Número de elementos en una lista\n",
        "\n",
        "Puedes usar la notación ```len(l)``` para retornar el número de elementos que contiene una lista."
      ],
      "metadata": {
        "id": "9pHNMO-zE5iV"
      }
    },
    {
      "cell_type": "code",
      "source": [
        "first_numbers = [1, 2, 3, 4, 5]\n",
        "\n",
        "#imprimir todos los elementos de la lista\n",
        "print(first_numbers)\n",
        "\n",
        "#Numero de elementos en la lista\n",
        "print(\"Numero de elementos en la lista:\", len(first_numbers))"
      ],
      "metadata": {
        "id": "iY7za5ICEvQV"
      },
      "execution_count": null,
      "outputs": []
    },
    {
      "cell_type": "markdown",
      "source": [
        "### Mutabilidad de listas\n",
        "\n",
        "Las listas en python son mutables, esto quiere decir que puedes modificar los contenidos de éstas. Por ejemplo, puedes sobreescribir el valor del primer elemento de una lista usando:\n"
      ],
      "metadata": {
        "id": "PhxzsdcpFD8A"
      }
    },
    {
      "cell_type": "code",
      "source": [
        "# declarando una lista de strings\n",
        "words = [\"hello\", \"bye\", \"thanks\", \"low\"]\n",
        "print(words)\n",
        "\n",
        "# reemplazando el primer valor de la lista\n",
        "words[0] = \"hi\"\n",
        "print(words)"
      ],
      "metadata": {
        "id": "8llW6nAEE9CX"
      },
      "execution_count": null,
      "outputs": []
    },
    {
      "cell_type": "markdown",
      "source": [
        "### Slicing de listas\n",
        "\n",
        "La operación de slicing de python te permite seleccionar varios elementos de una lista (una rebanada). Para hacer slicing utilizas la siguiente nomenclatura ```list[n:m]```, donde $n$ es el índice de inicio del slice y $m$ es el índice final (no inclusivo). Por ejemplo, si quisiera seleccionar los primeros tres elementos de una lista usarías:\n",
        "\n",
        "```\n",
        "first_five_numbers = [1, 2, 3, 4, 5]\n",
        "print(first_five_numbers[0:3])\n",
        "```\n",
        "\n",
        "Algunos atajos:\n",
        "\n",
        "* Si omites el valor de $n$, el slice iniciará al principio de la lista.\n",
        "\n",
        "```\n",
        "first_five_numbers = [1, 2, 3, 4, 5]\n",
        "print(first_five_numbers[:3])\n",
        "```\n",
        "\n",
        "* Si omites el valor de $m$, el slice finalizará en el último elemento de la lista.\n",
        "\n",
        "```\n",
        "first_five_numbers = [1, 2, 3, 4, 5]\n",
        "print(first_five_numbers[1:])\n",
        "```\n",
        "\n",
        "* Si omites ambos valores (```list[:]```), el slice retorna una copia de toda la lista.\n",
        "\n",
        "```\n",
        "first_five_numbers = [1, 2, 3, 4, 5]\n",
        "print(first_five_numbers[:])\n",
        "```\n"
      ],
      "metadata": {
        "id": "GabHVhCCFVkF"
      }
    },
    {
      "cell_type": "code",
      "source": [
        "#modifica los valores del slice de la lista para seleccionar diferentes elementos\n",
        "first_five_numbers = [1, 2, 3, 4, 5]\n",
        "print(first_five_numbers[0:3])"
      ],
      "metadata": {
        "id": "KTBSpeBSFGoC"
      },
      "execution_count": null,
      "outputs": []
    },
    {
      "cell_type": "markdown",
      "source": [
        "También puedes usar slicing para modificar múltiples elementos de una lista. Recuerda que una lista es mutable, por lo que los elementos anteriores se sobrescriben."
      ],
      "metadata": {
        "id": "qFJoyyDJFxSo"
      }
    },
    {
      "cell_type": "code",
      "source": [
        "first_five_numbers = [1, 2, 3, 4, 5]\n",
        "print(first_five_numbers)\n",
        "\n",
        "#usando slicing para cambiar los elementos de la lista\n",
        "#Esto actualiza los elementos por lo que los valores anteriores se pierden\n",
        "first_five_numbers[0:3] = [0, 1, 2]\n",
        "print(first_five_numbers)"
      ],
      "metadata": {
        "id": "9yfU8ZXuFZJ3"
      },
      "execution_count": null,
      "outputs": []
    },
    {
      "cell_type": "markdown",
      "source": [
        "Por último, puedes usar un tercer elemento $k$ al hacer slicing para definir el tamaño del salto."
      ],
      "metadata": {
        "id": "4AIiDLvcF6kr"
      }
    },
    {
      "cell_type": "code",
      "source": [
        "first_five_numbers = [1, 2, 3, 4, 5]\n",
        "print(\"lista de numeros enteros:\", first_five_numbers)\n",
        "\n",
        "k = 2\n",
        "print(\"numeros impares\", first_five_numbers[::k])"
      ],
      "metadata": {
        "id": "UiqJNDqWF0jO"
      },
      "execution_count": null,
      "outputs": []
    },
    {
      "cell_type": "markdown",
      "source": [
        "### Métodos adicionales de listas\n",
        "\n",
        "Python provee algunas funcionalidades adicionales para el manejo de listas. Estos son importantes para realizar muchas de las tareas que involucran listas.\n",
        "\n",
        "* l.append(x) # Agrega un nuevo elemento _x_ al final de la lista.\n",
        "\n",
        "* l.clear() # Remueve todos los elementos de la lista.\n",
        "\n",
        "* l.copy() # Crea una copia de la lista.\n",
        "\n",
        "* l.extend(l2) # Añade los elementos de l2 a l, similar al operador +.\n",
        "\n",
        "* l.insert(i, x) # Inserta el valor x en la lista en la posición definida por el índice i.\n",
        "\n",
        "* l.pop(\\[i\\]) # Retorna y remueve el elemento en el índice i de la lista. Si se omite i, entonces retorna y remueve el último elemento de la lista.\n",
        "\n",
        "* l.remove(x) # Remueve el elemento x de la lista (solo la primera aparición).\n",
        "\n",
        "* l.reverse() # Invierte el orden de los elementos en la lista. \n",
        "\n",
        "* l.sort() # Retorna la lista con todos sus elementos ordenados ascendentemente.\n",
        "\n",
        "* del list\\[i\\] # Remueve el elemento en el índice i de la lista.\n",
        "\n",
        "* list(s) # Convierte una variable string a una lista que contiene como elementos los caracteres de la variable."
      ],
      "metadata": {
        "id": "ddMA4ptbGmol"
      }
    },
    {
      "cell_type": "markdown",
      "source": [
        "**append**"
      ],
      "metadata": {
        "id": "8ipu1N8NGtaK"
      }
    },
    {
      "cell_type": "code",
      "source": [
        "first_numbers = [1, 2, 3, 4, 5]\n",
        "print(\"Lista original\", first_numbers)\n",
        "print(\"Numero de elementos en la lista original:\", len(first_numbers))\n",
        "\n",
        "#Agregar un nuevo elemento a la lista\n",
        "first_numbers.append(6)\n",
        "\n",
        "#imprimir todos los elementos de la lista\n",
        "print(\"Lista despues de append\", first_numbers)\n",
        "\n",
        "#Numero de elementos en la lista\n",
        "print(\"Numero de elementos en la lista despues de append:\", len(first_numbers))"
      ],
      "metadata": {
        "id": "khjMeHb8F9_N"
      },
      "execution_count": null,
      "outputs": []
    },
    {
      "cell_type": "markdown",
      "source": [
        "**clear**"
      ],
      "metadata": {
        "id": "BaFyuDJYGzy7"
      }
    },
    {
      "cell_type": "code",
      "source": [
        "first_numbers = [1, 2, 3, 4, 5]\n",
        "\n",
        "#imprimir todos los elementos de la lista\n",
        "print(\"Lista original\", first_numbers)\n",
        "\n",
        "#Eliminar todos los elementos de la lista\n",
        "first_numbers.clear()\n",
        "#imprimir todos los elementos de la lista\n",
        "print(\"Lista despues de clear\", first_numbers)"
      ],
      "metadata": {
        "id": "kkflrgjPGvjg"
      },
      "execution_count": null,
      "outputs": []
    },
    {
      "cell_type": "markdown",
      "source": [
        "**copy**"
      ],
      "metadata": {
        "id": "P-bkQeIEG86D"
      }
    },
    {
      "cell_type": "code",
      "source": [
        "first_numbers = [1, 2, 3, 4, 5]\n",
        "\n",
        "#imprimir todos los elementos de la lista\n",
        "print(\"Lista original\", first_numbers)\n",
        "\n",
        "#copia los elementos de la lista a una nueva lista\n",
        "first_numbers_copy = first_numbers.copy()\n",
        "#imprimir todos los elementos de la lista\n",
        "print(\"Una copia de lista\", first_numbers_copy)\n",
        "\n",
        "#modificando la copia\n",
        "first_numbers_copy[0] = 0\n",
        "\n",
        "\n",
        "#imprimir todos los elementos de la lista copia modificada\n",
        "print(\"Copia de lista modificando primer elemento\", first_numbers_copy)\n",
        "#imprimir todos los elementos de la lista\n",
        "print(\"Lista original, no cambia al modificar copia\", first_numbers)\n"
      ],
      "metadata": {
        "id": "YdZxDN0DG3pw"
      },
      "execution_count": null,
      "outputs": []
    },
    {
      "cell_type": "markdown",
      "source": [
        "**extend**"
      ],
      "metadata": {
        "id": "GgARjIA0HDdb"
      }
    },
    {
      "cell_type": "code",
      "source": [
        "fruits = [\"apple\", \"orange\"]\n",
        "more_fruits = [\"peach\", \"pineapple\"]\n",
        "\n",
        "#Extender la lista fruits\n",
        "fruits.extend(more_fruits)\n",
        "print(fruits)"
      ],
      "metadata": {
        "id": "OXplgFbZHABE"
      },
      "execution_count": null,
      "outputs": []
    },
    {
      "cell_type": "markdown",
      "source": [
        "**insert**"
      ],
      "metadata": {
        "id": "ET7sX6aiHIQo"
      }
    },
    {
      "cell_type": "code",
      "source": [
        "first_numbers = [1, 3, 4, 5]\n",
        "\n",
        "#imprimir todos los elementos de la lista\n",
        "print(\"Lista original\", first_numbers)\n",
        "\n",
        "#insertar un nuevo valor en el indice 1\n",
        "first_numbers.insert(1, 2)\n",
        "#imprimir todos los elementos de la lista\n",
        "print(\"Lista al insertar en indice 1\", first_numbers)"
      ],
      "metadata": {
        "id": "dEEpG1LvHFmb"
      },
      "execution_count": null,
      "outputs": []
    },
    {
      "cell_type": "markdown",
      "source": [
        "**pop**"
      ],
      "metadata": {
        "id": "F09m1ttiHM-r"
      }
    },
    {
      "cell_type": "code",
      "source": [
        "numbers = [1, 2, 3, 4, 5]\n",
        "\n",
        "#imprimir todos los elementos de la lista\n",
        "print(\"Lista original \", numbers)\n",
        "\n",
        "#eliminar el segundo valor de la lista\n",
        "i = 1\n",
        "n = numbers.pop(i)\n",
        "\n",
        "#imprimir todos los elementos de la lista\n",
        "print(\"Eliminado el valor \", n ,\" de la lista con pop(\", i,\")\")\n",
        "#imprimir todos los elementos de la lista\n",
        "print(\"Nueva lista despues de pop(\", i,\")\", numbers)\n",
        "\n",
        "\n",
        "#eliminar el ultimo valor de la lista\n",
        "n = numbers.pop()\n",
        "\n",
        "#imprimir todos los elementos de la lista\n",
        "print(\"Eliminado el ultimo valor, \", n ,\", de la lista  con pop()\")\n",
        "#imprimir todos los elementos de la lista\n",
        "print(\"Nueva lista despues de pop() \", numbers)"
      ],
      "metadata": {
        "id": "OA01u5krHKax"
      },
      "execution_count": null,
      "outputs": []
    },
    {
      "cell_type": "markdown",
      "source": [
        "**remove**"
      ],
      "metadata": {
        "id": "HEN7M5RHHS17"
      }
    },
    {
      "cell_type": "code",
      "source": [
        "numbers = [1, 2, 3, 4, 5]\n",
        "\n",
        "#imprimir todos los elementos de la lista\n",
        "print(\"Lista original \", numbers)\n",
        "\n",
        "#eliminar la primera aparicion de n en la lista\n",
        "n = 3\n",
        "\n",
        "numbers.remove(n)\n",
        "print(\"Nueva lista despues de remove(\", n,\")\", numbers)"
      ],
      "metadata": {
        "id": "cP5oTuKeHQNl"
      },
      "execution_count": null,
      "outputs": []
    },
    {
      "cell_type": "markdown",
      "source": [
        "**reverse**"
      ],
      "metadata": {
        "id": "bFIjPu_VHXrF"
      }
    },
    {
      "cell_type": "code",
      "source": [
        "numbers = [1, 2, 3, 4, 5]\n",
        "\n",
        "#imprimir todos los elementos de la lista\n",
        "print(\"Lista original \", numbers)\n",
        "\n",
        "numbers.reverse()\n",
        "#lista invertida\n",
        "print(\"Lista invertida con reverse\", numbers)"
      ],
      "metadata": {
        "id": "KhV2Myh9HUuF"
      },
      "execution_count": null,
      "outputs": []
    },
    {
      "cell_type": "markdown",
      "source": [
        "**sort**"
      ],
      "metadata": {
        "id": "KKpgxlGoHeHM"
      }
    },
    {
      "cell_type": "code",
      "source": [
        "numbers = [5, 1, 4, 3, 2]\n",
        "\n",
        "#imprimir todos los elementos de la lista\n",
        "print(\"Lista original: \", numbers)\n",
        "\n",
        "#Ordenar la lista de numeros\n",
        "numbers.sort()\n",
        "\n",
        "#imprimir todos los elementos de la lista\n",
        "print(\"Lista ordenada: \", numbers)"
      ],
      "metadata": {
        "id": "WnwM1-WHHZvt"
      },
      "execution_count": null,
      "outputs": []
    },
    {
      "cell_type": "markdown",
      "source": [
        "**del**"
      ],
      "metadata": {
        "id": "ZI8Y5wSzHiYh"
      }
    },
    {
      "cell_type": "code",
      "source": [
        "numbers = [1, 2, 3, 4, 5]\n",
        "\n",
        "#imprimir todos los elementos de la lista\n",
        "print(\"Lista original: \", numbers)\n",
        "\n",
        "#eliminar el segundo valor de la lista\n",
        "del numbers[1]\n",
        "\n",
        "#imprimir todos los elementos de la lista\n",
        "print(\"Eliminado el elementos en la posicion 1 de la lista con del \")\n",
        "#imprimir todos los elementos de la lista\n",
        "print(\"Nueva lista: \", numbers)\n",
        "\n",
        "\n",
        "#del tambien funciona con slices\n",
        "del numbers[:-3:-1]\n",
        "\n",
        "#imprimir todos los elementos de la lista\n",
        "print(\"Eliminado un slice de la lista con del: \")\n",
        "#imprimir todos los elementos de la lista\n",
        "print(\"Nueva lista: \", numbers)"
      ],
      "metadata": {
        "id": "jxajsmWrHgAs"
      },
      "execution_count": null,
      "outputs": []
    },
    {
      "cell_type": "markdown",
      "source": [
        "**list(s)**"
      ],
      "metadata": {
        "id": "CSkxCw-7Hnij"
      }
    },
    {
      "cell_type": "code",
      "source": [
        "msj = \"Hola mundo!\"\n",
        "msj_list = list(msj)\n",
        "\n",
        "\n",
        "print(\"De cadena a lista:\", msj, \"->\", msj_list)"
      ],
      "metadata": {
        "id": "OM_sdu6LHksZ"
      },
      "execution_count": null,
      "outputs": []
    },
    {
      "cell_type": "code",
      "source": [
        "#Un ejemplo del operador in utilizando listas\n",
        "numbers = [1, 2, 3, 4, 5] \n",
        "\n",
        "n = 3\n",
        "if n in numbers:\n",
        "    print(n, \"esta contenido en \", numbers)\n",
        "\n",
        "n = 8\n",
        "if n in numbers:\n",
        "    print(n, \"esta contenido en \", numbers)"
      ],
      "metadata": {
        "id": "ZvqC0ogpIWSf"
      },
      "execution_count": null,
      "outputs": []
    },
    {
      "cell_type": "markdown",
      "source": [
        "## For\n",
        "\n",
        "En python, ```for``` es utilizado para recorrer _objetos_ iterables (como una lista) y ejecutar una secuencia de código para cada elemento de ésta.\n",
        "\n",
        "```\n",
        "for l in lista:\n",
        "  #secuencia de codigo\n",
        "```\n"
      ],
      "metadata": {
        "id": "82qM0RaeJok-"
      }
    },
    {
      "cell_type": "markdown",
      "source": [
        "Volviendo al ejemplo de la receta de cocina, ¿qué pasaría si tuvieras que presentar el menú a varios comensales? Repetir el código no es la mejor idea, utilizamos las estructuras de control como for y while.\n",
        "\n",
        "\n",
        "\n",
        "```\n",
        "# Repite lo que hay dentro 100 veces\n",
        "for i in range(100):\n",
        "  # Cocinamos la receta\n",
        "  poner_agua_hervir()\n",
        "  echar_pollo_hervir()\n",
        "  cortar_pollo()\n",
        "  freir_pollo()\n",
        "  mezclar_pollo_arroz()\n",
        "```\n",
        "\n"
      ],
      "metadata": {
        "id": "PL_ixGLJUO1C"
      }
    },
    {
      "cell_type": "code",
      "source": [
        "lista = [1, 2, 3, 4, 5]\n",
        "\n",
        "#recorriendo la lista elemento por elemento\n",
        "print(\"Usando for para recorrer e imprimir los elementos de una lista\")\n",
        "for l in lista:\n",
        "    print(l)"
      ],
      "metadata": {
        "id": "5YpZd2h8JkeP"
      },
      "execution_count": null,
      "outputs": []
    },
    {
      "cell_type": "markdown",
      "source": [
        "El tipo de dato range también se convierte útil en ciclos ```for```, ya que podemos recorrer un rango de números durante un ciclo ```for```.\n",
        "\n",
        "```\n",
        "for i in range(10):\n",
        "  #secuencia de código\n",
        "```"
      ],
      "metadata": {
        "id": "d_0dbswAJ7F3"
      }
    },
    {
      "cell_type": "code",
      "source": [
        "#Prueba a cambiar el valor de n\n",
        "n = 5\n",
        "#usando for y range para recorrer un rango de numeros\n",
        "print(\"Usando for y range para imprimir n numeros\")\n",
        "for i in range(n):\n",
        "    print(i)"
      ],
      "metadata": {
        "id": "ac9-UTOhJyPK"
      },
      "execution_count": null,
      "outputs": []
    },
    {
      "cell_type": "markdown",
      "source": [
        "### List comprehensions\n",
        "\n",
        "En python, existe una manera compacta de crear listas conocida como list comprehession. Para esto usas un for dentro de la declaración de una lista para definir los elementos. Por ejemplo:\n",
        "\n",
        "```\n",
        "l = [x_exp for x in coleccion]\n",
        "```"
      ],
      "metadata": {
        "id": "iWYmMq3gKFRh"
      }
    },
    {
      "cell_type": "code",
      "source": [
        "#generando una lista con 10 numeros con un for\n",
        "numbers = []\n",
        "\n",
        "for x in range(10):\n",
        "    numbers.append(x)\n",
        "print(numbers)\n",
        "\n",
        "#usando list comprehession\n",
        "numbers = [x for x in range(10)]\n",
        "print(numbers)"
      ],
      "metadata": {
        "id": "Gl4XakSmJ-oz"
      },
      "execution_count": null,
      "outputs": []
    },
    {
      "cell_type": "code",
      "source": [
        "#Algo mas avanzado\n",
        "#una lista con los cuadrados de los numeros de 0 al 9\n",
        "squares = []\n",
        "for x in range(10):\n",
        "    squares.append(x*x)\n",
        "print(squares)\n",
        "  \n",
        "#usando list comprehession\n",
        "squares = [x*x for x in range(10)]\n",
        "print(squares)"
      ],
      "metadata": {
        "id": "BWIqfWLQKK39"
      },
      "execution_count": null,
      "outputs": []
    },
    {
      "cell_type": "markdown",
      "source": [
        "**Condicional en list comprehession**\n",
        "\n",
        "También es posible usar listas más avanzadas con list comprehession usando condicionales."
      ],
      "metadata": {
        "id": "9s70QvkPKp-8"
      }
    },
    {
      "cell_type": "code",
      "source": [
        "#una lista con los cuadrados de los numeros pares entre 0 a 20\n",
        "\n",
        "even_squares = [x*x for x in range(20) if x%2 == 0]\n",
        "print(even_squares)"
      ],
      "metadata": {
        "id": "Anb-tch7KhfA"
      },
      "execution_count": null,
      "outputs": []
    },
    {
      "cell_type": "markdown",
      "source": [
        "## For anidados"
      ],
      "metadata": {
        "id": "eFrNgvPSXVze"
      }
    },
    {
      "cell_type": "markdown",
      "source": [
        "Es posible anidar los ```for```, es decir, meter uno dentro de otro. Podemos tener, por ejemplo, una lista de listas:\n"
      ],
      "metadata": {
        "id": "Evj8fT4QYB7_"
      }
    },
    {
      "cell_type": "code",
      "source": [
        "lista = [[56,34,1],\n",
        "         [12,4,5],\n",
        "         [9,4,3]]"
      ],
      "metadata": {
        "id": "yPHde2ZDXaCY"
      },
      "execution_count": null,
      "outputs": []
    },
    {
      "cell_type": "markdown",
      "source": [
        "Si iteramos usando solo un ```for``` estaremos accediendo a la segunda lista pero no a los elementos individuales:\n"
      ],
      "metadata": {
        "id": "Krooa2K3gSdC"
      }
    },
    {
      "cell_type": "code",
      "source": [
        "for i in lista:\n",
        "  print(i)"
      ],
      "metadata": {
        "colab": {
          "base_uri": "https://localhost:8080/"
        },
        "id": "Rnn8T8YngL_p",
        "outputId": "bff3287f-c317-4746-8718-7b8e02b7dce3"
      },
      "execution_count": null,
      "outputs": [
        {
          "output_type": "stream",
          "name": "stdout",
          "text": [
            "[56, 34, 1]\n",
            "[12, 4, 5]\n",
            "[9, 4, 3]\n"
          ]
        }
      ]
    },
    {
      "cell_type": "markdown",
      "source": [
        "Si queremos acceder a cada elemento inidividualmente, podemos anidar con un doble ```for```. Uno de ellos, se encargará de iterar las columnas y el otro las filas.\n"
      ],
      "metadata": {
        "id": "s61oC6rPguEx"
      }
    },
    {
      "cell_type": "code",
      "source": [
        "for i in lista:\n",
        "  for j in i:\n",
        "    print(j)"
      ],
      "metadata": {
        "id": "dubETxk6gpsq"
      },
      "execution_count": null,
      "outputs": []
    },
    {
      "cell_type": "markdown",
      "source": [
        "## Bucles while"
      ],
      "metadata": {
        "id": "6G16RHtshl4y"
      }
    },
    {
      "cell_type": "markdown",
      "source": [
        "El uso ```while``` nos permite ejecutar una sección de código repetidas veces. El código se ejecutará **mientras** se cumpla una condición determinada.\n"
      ],
      "metadata": {
        "id": "Gl9YnLa-iFHo"
      }
    },
    {
      "cell_type": "code",
      "source": [
        "x = 5\n",
        "while x > 0:\n",
        "  x -= 1\n",
        "  print(x)"
      ],
      "metadata": {
        "id": "j7Ksmf5Jg-mU"
      },
      "execution_count": null,
      "outputs": []
    },
    {
      "cell_type": "code",
      "source": [
        "x = [\"Uno\", \"Dos\", \"Tres\"]\n",
        "while x:\n",
        "  x.pop()\n",
        "  print(x)"
      ],
      "metadata": {
        "id": "KVxU5S-zi1OD"
      },
      "execution_count": null,
      "outputs": []
    },
    {
      "cell_type": "markdown",
      "source": [
        "## Else y while"
      ],
      "metadata": {
        "id": "H2BihThEjzpr"
      }
    },
    {
      "cell_type": "code",
      "source": [
        "x = 5\n",
        "while True:\n",
        "  x -= 1\n",
        "  print(x)\n",
        "  if x == 0:\n",
        "    break\n",
        "else:\n",
        "  #El print no se ejecutará\n",
        "  print(\"Fin del bucle\")"
      ],
      "metadata": {
        "id": "hYgai5vqjqgF"
      },
      "execution_count": null,
      "outputs": []
    },
    {
      "cell_type": "markdown",
      "source": [
        "## Bucles anidados"
      ],
      "metadata": {
        "id": "DyzJxKWikpN-"
      }
    },
    {
      "cell_type": "code",
      "source": [
        "i = 0\n",
        "j = 0\n",
        "while i<3:\n",
        "  while j<3:\n",
        "    print(i,\" \",j)\n",
        "    j+=1\n",
        "  i+=1\n",
        "  j=0"
      ],
      "metadata": {
        "id": "7hoFVSEvkPc7"
      },
      "execution_count": null,
      "outputs": []
    },
    {
      "cell_type": "markdown",
      "source": [
        "## Break con bucle for"
      ],
      "metadata": {
        "id": "aCijn4PmmYPj"
      }
    },
    {
      "cell_type": "code",
      "source": [
        "cadena = \"Python\"\n",
        "for letra in cadena:\n",
        "  if letra == 'h':\n",
        "    print(\"Se encontró la h\")\n",
        "    break\n",
        "  print(letra)"
      ],
      "metadata": {
        "id": "rPN4qdTMlGyQ"
      },
      "execution_count": null,
      "outputs": []
    },
    {
      "cell_type": "code",
      "source": [
        ""
      ],
      "metadata": {
        "id": "RtDwKrSUmnaY"
      },
      "execution_count": null,
      "outputs": []
    }
  ]
}